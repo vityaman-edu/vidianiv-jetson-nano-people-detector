{
 "cells": [
  {
   "cell_type": "code",
   "execution_count": null,
   "id": "04b4bbca",
   "metadata": {},
   "outputs": [],
   "source": [
    "import cv2\n",
    "import numpy"
   ]
  },
  {
   "cell_type": "code",
   "execution_count": null,
   "id": "1ee868e7",
   "metadata": {},
   "outputs": [],
   "source": [
    "with open('res/yolov3.txt', 'r') as file:\n",
    "    classes = [line.strip() for line in file.readlines()]\n",
    "\n",
    "config = 'res/yolov3.cfg'\n",
    "\n",
    "weights = 'res/yolov3.weights'\n",
    "    \n",
    "colors = numpy.random.uniform(0, 255, size=(len(classes), 3))"
   ]
  },
  {
   "cell_type": "code",
   "execution_count": null,
   "id": "06e37e77",
   "metadata": {},
   "outputs": [],
   "source": [
    "yolo = cv2.dnn.readNet(weights, config)\n",
    "numbers_threshold = 0.4\n",
    "confidence_threshold = 0.9"
   ]
  },
  {
   "cell_type": "code",
   "execution_count": null,
   "id": "21208a93",
   "metadata": {},
   "outputs": [],
   "source": [
    "def get_output_layers():\n",
    "    global yolo\n",
    "    layer_names = yolo.getLayerNames()\n",
    "    output_layers = [layer_names[i - 1] for i in yolo.getUnconnectedOutLayers()]\n",
    "    return output_layers"
   ]
  },
  {
   "cell_type": "code",
   "execution_count": null,
   "id": "e5398687",
   "metadata": {},
   "outputs": [],
   "source": [
    "def draw_predictions(image, indices, boxes, class_ids, confidences):\n",
    "    global colors\n",
    "    \n",
    "    count = 0\n",
    "    for i in indices:\n",
    "        box = boxes[i]\n",
    "        x, y, h, w = map(int, box)\n",
    "        print(x, y, h, w)\n",
    "        class_id = class_ids[i]\n",
    "        confidence = confidences[i]\n",
    "        label = str(classes[class_id])\n",
    "        if label == 'person':\n",
    "            count += 1\n",
    "        color = colors[class_id]\n",
    "        cv2.rectangle(image, (x, y), (x + w, y + h), color, 2)\n",
    "        cv2.putText(image, label, (x - 10, y - 10), cv2.FONT_HERSHEY_SIMPLEX, 0.5, color, 2)\n",
    "    \n",
    "    cv2.putText(image, f'Count: {count}', (40, 70), cv2.FONT_HERSHEY_DUPLEX, 0.8, (255, 255, 255), 2)"
   ]
  },
  {
   "cell_type": "code",
   "execution_count": null,
   "id": "14688b68",
   "metadata": {},
   "outputs": [],
   "source": [
    "def detect(image):\n",
    "    global yolo\n",
    "    \n",
    "    width = image.shape[1]\n",
    "    height = image.shape[0]\n",
    "    \n",
    "    scale = 0.00392\n",
    "    blob = cv2.dnn.blobFromImage(image, scale, (416, 416), (0, 0, 0), True, crop=False)\n",
    "    yolo.setInput(blob)\n",
    "    \n",
    "    class_ids, confidences, boxes = [], [], []\n",
    "    outs = yolo.forward(get_output_layers())\n",
    "    for out in outs:\n",
    "        for detection in out:\n",
    "            scores = detection[5:]\n",
    "            class_id = numpy.argmax(scores)\n",
    "            confidence = scores[class_id]\n",
    "            if confidence > confidence_threshold:\n",
    "                center_x = int(detection[0] * width)\n",
    "                center_y = int(detection[1] * height)\n",
    "                w = int(detection[2] * width)\n",
    "                h = int(detection[3] * height)\n",
    "                x = center_x - w / 2\n",
    "                y = center_y - h / 2\n",
    "                class_ids.append(class_id)\n",
    "                confidences.append(float(confidence))\n",
    "                boxes.append((x, y, w, h))\n",
    "    \n",
    "    indices = cv2.dnn.NMSBoxes(boxes, confidences, confidence_threshold, numbers_threshold)\n",
    "    \n",
    "    draw_predictions(image, indices, boxes, class_ids, confidences)\n",
    "        \n",
    "    return image"
   ]
  },
  {
   "cell_type": "code",
   "execution_count": null,
   "id": "a00943b9",
   "metadata": {},
   "outputs": [],
   "source": [
    "from IPython.display import display, Image\n",
    "\n",
    "def image_from_camera():\n",
    "    video = cv2.VideoCapture(0)\n",
    "    _, image = video.read()\n",
    "    video.release()\n",
    "    return image\n",
    "\n",
    "def image_from_file(filepath):\n",
    "    return cv2.imread(filepath)\n",
    "\n",
    "def show(image):\n",
    "    window = display(None, display_id=True)\n",
    "    _, image = cv2.imencode('.jpeg', image)\n",
    "    window.update(Image(data = image.tobytes()))"
   ]
  },
  {
   "cell_type": "code",
   "execution_count": null,
   "id": "4429af84",
   "metadata": {},
   "outputs": [],
   "source": [
    "show(detect(image_from_camera()))"
   ]
  },
  {
   "cell_type": "code",
   "execution_count": null,
   "id": "7249da1d",
   "metadata": {},
   "outputs": [],
   "source": [
    "show(detect(image_from_file('res/medium-people-6.jpg')))"
   ]
  },
  {
   "cell_type": "code",
   "execution_count": null,
   "id": "c8e110dd",
   "metadata": {},
   "outputs": [],
   "source": []
  }
 ],
 "metadata": {
  "language_info": {
   "name": "python"
  }
 },
 "nbformat": 4,
 "nbformat_minor": 5
}
