{
 "cells": [
  {
   "cell_type": "code",
   "execution_count": null,
   "id": "7ea7ede1",
   "metadata": {},
   "outputs": [],
   "source": [
    "import cv2"
   ]
  },
  {
   "cell_type": "code",
   "execution_count": null,
   "id": "d4e3d282",
   "metadata": {},
   "outputs": [],
   "source": [
    "file = 'res/haarcascade_frontalface_default.xml'\n",
    "classifier = cv2.CascadeClassifier(file)"
   ]
  },
  {
   "cell_type": "code",
   "execution_count": null,
   "id": "2a78f4ab",
   "metadata": {},
   "outputs": [],
   "source": [
    "def detect(image):\n",
    "    image = cv2.cvtColor(image, cv2.COLOR_BGR2GRAY)\n",
    "    boxes = classifier.detectMultiScale(image, 1.3, 4)\n",
    "    for (x, y, w, h) in boxes:\n",
    "        cv2.rectangle(image, (x, y), (x + w, y + h), (0, 255, 0), 2)\n",
    "    return image"
   ]
  },
  {
   "cell_type": "code",
   "execution_count": null,
   "id": "8b03d4c3",
   "metadata": {},
   "outputs": [],
   "source": [
    "from IPython.display import display, Image"
   ]
  },
  {
   "cell_type": "code",
   "execution_count": null,
   "id": "938c2596",
   "metadata": {},
   "outputs": [],
   "source": [
    "def image_from_camera():\n",
    "    video = cv2.VideoCapture(0)\n",
    "    _, image = video.read()\n",
    "    video.release()\n",
    "    return image"
   ]
  },
  {
   "cell_type": "code",
   "execution_count": null,
   "id": "ae79472f",
   "metadata": {},
   "outputs": [],
   "source": [
    "def image_from_file(filepath):\n",
    "    return cv2.imread(filepath)"
   ]
  },
  {
   "cell_type": "code",
   "execution_count": null,
   "id": "ccde2ed9",
   "metadata": {},
   "outputs": [],
   "source": [
    "def show(image):\n",
    "    window = display(None, display_id=True)\n",
    "    _, image = cv2.imencode('.jpeg', image)\n",
    "    window.update(Image(data = image.tobytes()))"
   ]
  },
  {
   "cell_type": "code",
   "execution_count": null,
   "id": "e6bb3fab",
   "metadata": {},
   "outputs": [],
   "source": [
    "show(detect(image_from_file('res/easy-people-5.jpg')))"
   ]
  },
  {
   "cell_type": "code",
   "execution_count": null,
   "id": "b2ec1f68",
   "metadata": {},
   "outputs": [],
   "source": [
    "show(detect(image_from_file('res/medium-people-6.jpg')))"
   ]
  },
  {
   "cell_type": "code",
   "execution_count": null,
   "id": "e8db8777",
   "metadata": {},
   "outputs": [],
   "source": [
    "show(detect(image_from_camera()))"
   ]
  }
 ],
 "metadata": {
  "language_info": {
   "name": "python"
  }
 },
 "nbformat": 4,
 "nbformat_minor": 5
}
