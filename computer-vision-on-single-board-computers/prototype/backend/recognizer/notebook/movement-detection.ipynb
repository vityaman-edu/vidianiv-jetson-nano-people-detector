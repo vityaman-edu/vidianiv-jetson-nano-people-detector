{
 "cells": [
  {
   "cell_type": "markdown",
   "id": "350f86f6",
   "metadata": {},
   "source": [
    "# Movement detection"
   ]
  },
  {
   "cell_type": "code",
   "execution_count": null,
   "id": "77a66160",
   "metadata": {},
   "outputs": [],
   "source": [
    "import cv2\n",
    "import numpy\n",
    "import time"
   ]
  },
  {
   "cell_type": "code",
   "execution_count": null,
   "id": "702ae074",
   "metadata": {},
   "outputs": [],
   "source": [
    "from IPython.display import display, Image"
   ]
  },
  {
   "cell_type": "code",
   "execution_count": null,
   "id": "47a2f366",
   "metadata": {},
   "outputs": [],
   "source": [
    "video = cv2.VideoCapture(0)\n",
    "output = display(\"output\", display_id = True)\n",
    "\n",
    "_, prev_image = video.read()\n",
    "for i in range(1):\n",
    "    time.sleep(0.1)\n",
    "    _, next_image = video.read()\n",
    "    \n",
    "    diff = cv2.absdiff(prev_image, next_image)\n",
    "    diff = cv2.cvtColor(diff, cv2.COLOR_BGR2GRAY)\n",
    "    diff = cv2.GaussianBlur(diff, (5, 5), 0)\n",
    "    _, diff = cv2.threshold(diff, 20, 255, cv2.THRESH_BINARY)\n",
    "    diff = cv2.dilate(diff, None, iterations = 3)\n",
    "    \n",
    "    contours, _ = cv2.findContours(diff, cv2.RETR_TREE, cv2.CHAIN_APPROX_SIMPLE)\n",
    "    for contour in contours:\n",
    "        x, y, w, h = cv2.boundingRect(contour)\n",
    "        if cv2.contourArea(contour) < 900:\n",
    "            continue\n",
    "        cv2.rectangle(prev_image, (x, y), (x + w, y + h), (255, 0, 0), 2)\n",
    "    \n",
    "    _, image = cv2.imencode('.jpeg', diff)\n",
    "    output.update(Image(data = image.tobytes()))\n",
    "    \n",
    "    prev_image = next_image\n",
    "    \n",
    "video.release()\n",
    "cv2.destroyAllWindows()"
   ]
  }
 ],
 "metadata": {
  "kernelspec": {
   "display_name": "venv",
   "language": "python",
   "name": "python3"
  },
  "language_info": {
   "codemirror_mode": {
    "name": "ipython",
    "version": 3
   },
   "file_extension": ".py",
   "mimetype": "text/x-python",
   "name": "python",
   "nbconvert_exporter": "python",
   "pygments_lexer": "ipython3",
   "version": "3.11.2"
  }
 },
 "nbformat": 4,
 "nbformat_minor": 5
}
