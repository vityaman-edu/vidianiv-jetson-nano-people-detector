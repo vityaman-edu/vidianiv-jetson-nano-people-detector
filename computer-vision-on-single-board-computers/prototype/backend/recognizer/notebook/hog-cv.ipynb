{
 "cells": [
  {
   "cell_type": "markdown",
   "id": "cd82ad73",
   "metadata": {},
   "source": [
    "# Human detection: Only Open CV sample"
   ]
  },
  {
   "cell_type": "code",
   "execution_count": null,
   "id": "20bcf0b2",
   "metadata": {},
   "outputs": [],
   "source": [
    "import cv2\n",
    "import numpy as np"
   ]
  },
  {
   "cell_type": "code",
   "execution_count": null,
   "id": "55a71fea",
   "metadata": {},
   "outputs": [],
   "source": [
    "HOGCV = cv2.HOGDescriptor()\n",
    "HOGCV.setSVMDetector(cv2.HOGDescriptor_getDefaultPeopleDetector())"
   ]
  },
  {
   "cell_type": "code",
   "execution_count": null,
   "id": "a5ba736b",
   "metadata": {},
   "outputs": [],
   "source": [
    "def detect(frame):\n",
    "    boxes, _ =  HOGCV.detectMultiScale(frame, \n",
    "        winStride = (4, 4), \n",
    "        padding = (8, 8), \n",
    "        scale = 1.03\n",
    "    )\n",
    "    count = 0\n",
    "    for x, y, w, h in boxes:\n",
    "        cv2.rectangle(frame, (x, y), (x + w, y + h), (0, 255, 0), 2)\n",
    "        cv2.putText(frame, f'person {count}', (x,y), cv2.FONT_HERSHEY_SIMPLEX, 0.5, (0,0,255), 1)\n",
    "        count += 1\n",
    "    \n",
    "    cv2.putText(frame, f'Count: {count}', (40, 70), cv2.FONT_HERSHEY_DUPLEX, 0.8, (255, 0, 0), 2)\n",
    "    return frame"
   ]
  },
  {
   "cell_type": "code",
   "execution_count": null,
   "id": "e3bd6ad2",
   "metadata": {},
   "outputs": [],
   "source": [
    "from IPython.display import display, Image"
   ]
  },
  {
   "cell_type": "code",
   "execution_count": null,
   "id": "e48de76c",
   "metadata": {},
   "outputs": [],
   "source": [
    "def image_from_camera():\n",
    "    video = cv2.VideoCapture(0)\n",
    "    _, image = video.read()\n",
    "    video.release()\n",
    "    return image"
   ]
  },
  {
   "cell_type": "code",
   "execution_count": null,
   "id": "c6e19281",
   "metadata": {},
   "outputs": [],
   "source": [
    "def image_from_file(filepath):\n",
    "    return cv2.imread(filepath)"
   ]
  },
  {
   "cell_type": "code",
   "execution_count": null,
   "id": "02174141",
   "metadata": {},
   "outputs": [],
   "source": [
    "def show(image):\n",
    "    window = display(None, display_id=True)\n",
    "    _, image = cv2.imencode('.jpeg', image)\n",
    "    window.update(Image(data = image.tobytes()))"
   ]
  },
  {
   "cell_type": "code",
   "execution_count": null,
   "id": "b75a8db6",
   "metadata": {},
   "outputs": [],
   "source": [
    "show(detect(image_from_file('res/easy-people-5.jpg')))"
   ]
  },
  {
   "cell_type": "code",
   "execution_count": null,
   "id": "d2f26c1c",
   "metadata": {},
   "outputs": [],
   "source": [
    "show(detect(image_from_file('res/hard-people-7.jpg')))"
   ]
  },
  {
   "cell_type": "code",
   "execution_count": null,
   "id": "72bf8937",
   "metadata": {},
   "outputs": [],
   "source": [
    "show(detect(image_from_file('res/medium-people-6.jpg')))"
   ]
  },
  {
   "cell_type": "code",
   "execution_count": null,
   "id": "5f85aea8",
   "metadata": {},
   "outputs": [],
   "source": [
    "show(detect(image_from_file('res/medium-people-5-dark.jpg')))"
   ]
  },
  {
   "cell_type": "code",
   "execution_count": null,
   "id": "6c523e07",
   "metadata": {},
   "outputs": [],
   "source": [
    "show(detect(image_from_file('res/hard-people-many.jpg')))"
   ]
  },
  {
   "cell_type": "code",
   "execution_count": null,
   "id": "cf4edc5e",
   "metadata": {},
   "outputs": [],
   "source": []
  }
 ],
 "metadata": {
  "kernelspec": {
   "display_name": "Python 3 (ipykernel)",
   "language": "python",
   "name": "python3"
  },
  "language_info": {
   "codemirror_mode": {
    "name": "ipython",
    "version": 3
   },
   "file_extension": ".py",
   "mimetype": "text/x-python",
   "name": "python",
   "nbconvert_exporter": "python",
   "pygments_lexer": "ipython3",
   "version": "3.10.6"
  }
 },
 "nbformat": 4,
 "nbformat_minor": 5
}
