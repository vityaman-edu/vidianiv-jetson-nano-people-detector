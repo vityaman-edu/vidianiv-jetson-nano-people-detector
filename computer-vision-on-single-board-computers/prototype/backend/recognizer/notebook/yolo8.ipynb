{
 "cells": [
  {
   "cell_type": "code",
   "execution_count": null,
   "id": "7f974531",
   "metadata": {},
   "outputs": [],
   "source": [
    "from ultralytics import YOLO\n",
    "import cv2"
   ]
  },
  {
   "cell_type": "code",
   "execution_count": null,
   "id": "23d7eb5c",
   "metadata": {},
   "outputs": [],
   "source": [
    "# https://docs.ultralytics.com\n",
    "model = YOLO(\"yolov8n.pt\")"
   ]
  },
  {
   "cell_type": "code",
   "execution_count": null,
   "id": "41e216ea",
   "metadata": {},
   "outputs": [],
   "source": [
    "from typing import NamedTuple\n",
    "\n",
    "\n",
    "class Box(NamedTuple):\n",
    "    x: float\n",
    "    y: float\n",
    "    w: float\n",
    "    h: float\n",
    "        \n",
    "    @property\n",
    "    def tuple(self):\n",
    "        return self.x, self.y, self.w, self.h\n",
    "\n",
    "        \n",
    "class DetectedObject(NamedTuple):\n",
    "    box: Box\n",
    "    cls: int\n",
    "    conf: int\n",
    "        \n",
    "\n",
    "def detect(model, image):\n",
    "    objects = []\n",
    "    for result in model.predict(image):\n",
    "        for box in result.boxes:\n",
    "            # https://docs.ultralytics.com/usage/python/#predict\n",
    "            x, y, w, h = map(int, box.xywh[0])\n",
    "            cls = int(box.cls)\n",
    "            conf = int(float(box.conf) * 100)\n",
    "            objects.append(DetectedObject(Box(x, y, w, h), cls, conf))\n",
    "    return objects\n",
    "\n",
    "\n",
    "def draw(image, objects):\n",
    "    color = (255, 255, 0)\n",
    "    count = 0\n",
    "    for obj in objects:\n",
    "        x, y, w, h = obj.box.tuple\n",
    "        count += 1\n",
    "        cv2.rectangle(image, (x - w // 2, y - h // 2), (x + w // 2, y + h // 2), color, 2)\n",
    "        cv2.putText(image, f'{obj.cls}: {obj.conf}%', (x - 10, y - 10), cv2.FONT_HERSHEY_SIMPLEX, 0.5, color, 2)\n",
    "    cv2.putText(image, f'Count: {count}', (40, 70), cv2.FONT_HERSHEY_DUPLEX, 0.8, (255, 255, 255), 2)"
   ]
  },
  {
   "cell_type": "code",
   "execution_count": null,
   "id": "f361170b",
   "metadata": {},
   "outputs": [],
   "source": [
    "from IPython.display import display, Image\n",
    "\n",
    "def image_from_camera():\n",
    "    video = cv2.VideoCapture(0)\n",
    "    _, image = video.read()\n",
    "    video.release()\n",
    "    return image\n",
    "\n",
    "def image_from_file(filepath):\n",
    "    return cv2.imread(filepath)\n",
    "\n",
    "def show(image):\n",
    "    window = display(None, display_id=True)\n",
    "    _, image = cv2.imencode('.jpeg', image)\n",
    "    window.update(Image(data = image.tobytes()))"
   ]
  },
  {
   "cell_type": "code",
   "execution_count": null,
   "id": "97d05d19",
   "metadata": {},
   "outputs": [],
   "source": [
    "image = image_from_file('res/medium-people-5-dark.jpg')\n",
    "boxes = detect(model, image)\n",
    "draw(image, boxes)\n",
    "show(image)"
   ]
  },
  {
   "cell_type": "code",
   "execution_count": null,
   "id": "9ac58ad2",
   "metadata": {},
   "outputs": [],
   "source": []
  }
 ],
 "metadata": {
  "language_info": {
   "name": "python"
  }
 },
 "nbformat": 4,
 "nbformat_minor": 5
}
