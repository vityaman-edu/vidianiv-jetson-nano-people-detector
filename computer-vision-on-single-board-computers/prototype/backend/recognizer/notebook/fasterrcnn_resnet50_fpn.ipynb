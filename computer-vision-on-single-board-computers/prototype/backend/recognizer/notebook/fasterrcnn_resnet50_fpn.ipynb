{
 "cells": [
  {
   "cell_type": "markdown",
   "id": "50f72ace",
   "metadata": {},
   "source": [
    "# fasterrcnn_resnet50_fpn"
   ]
  },
  {
   "cell_type": "code",
   "execution_count": null,
   "id": "f51e729a",
   "metadata": {},
   "outputs": [],
   "source": [
    "import torch\n",
    "import torchvision\n",
    "import cv2\n",
    "import numpy"
   ]
  },
  {
   "cell_type": "markdown",
   "id": "08fc7198",
   "metadata": {},
   "source": [
    "https://pytorch.org/vision/main/models/generated/torchvision.models.detection.fasterrcnn_resnet50_fpn.html"
   ]
  },
  {
   "cell_type": "code",
   "execution_count": null,
   "id": "04da0baa",
   "metadata": {},
   "outputs": [],
   "source": [
    "model = torchvision.models.detection.fasterrcnn_resnet50_fpn(pretrained=True)"
   ]
  },
  {
   "cell_type": "code",
   "execution_count": null,
   "id": "621092ba",
   "metadata": {},
   "outputs": [],
   "source": [
    "threshold = 0.99"
   ]
  },
  {
   "cell_type": "code",
   "execution_count": null,
   "id": "f63e5e8f",
   "metadata": {},
   "outputs": [],
   "source": [
    "def people_on(image):\n",
    "    global model\n",
    "    model = model.eval()\n",
    "    image = torch\\\n",
    "        .from_numpy(image.copy().astype('float32'))\\\n",
    "        .permute(2, 0, 1) / 255.0\n",
    "    predictions = model(image[None, ...])\n",
    "    boxes = predictions[0]['boxes'][\n",
    "        (predictions[0]['scores'] > threshold)\n",
    "        & (predictions[0]['labels'] == 1)\n",
    "    ]\n",
    "    return boxes.detach().numpy()"
   ]
  },
  {
   "cell_type": "code",
   "execution_count": null,
   "id": "27ee996e",
   "metadata": {},
   "outputs": [],
   "source": [
    "def draw_boxes(boxes, image):\n",
    "    image = numpy.array(image)\n",
    "    for x, y, w, h in boxes:\n",
    "        x, y, w, h = map(int, (x, y, w, h))\n",
    "        cv2.rectangle(image, (x, y), (x + w, y + h), (0, 0, 255), 2)\n",
    "    cv2.putText(image, f'Count: {len(boxes)}', (40, 70), cv2.FONT_HERSHEY_DUPLEX, 0.8, (255, 255, 255), 2)\n",
    "    return image"
   ]
  },
  {
   "cell_type": "code",
   "execution_count": null,
   "id": "d93a91dc",
   "metadata": {},
   "outputs": [],
   "source": [
    "def detect(image, filters=[]):\n",
    "    for filter in filters:\n",
    "        image = filter(image)\n",
    "    return draw_boxes(people_on(image), image)"
   ]
  },
  {
   "cell_type": "code",
   "execution_count": null,
   "id": "cae1bccf",
   "metadata": {},
   "outputs": [],
   "source": [
    "def image_from_camera():\n",
    "    video = cv2.VideoCapture(0)\n",
    "    _, image = video.read()\n",
    "    video.release()\n",
    "    return image"
   ]
  },
  {
   "cell_type": "code",
   "execution_count": null,
   "id": "02f862da",
   "metadata": {},
   "outputs": [],
   "source": [
    "def image_from_file(filepath):\n",
    "    return cv2.imread(filepath)"
   ]
  },
  {
   "cell_type": "code",
   "execution_count": null,
   "id": "f06b09cf",
   "metadata": {},
   "outputs": [],
   "source": [
    "from IPython.display import display, Image"
   ]
  },
  {
   "cell_type": "code",
   "execution_count": null,
   "id": "03579265",
   "metadata": {},
   "outputs": [],
   "source": [
    "def show(image):\n",
    "    window = display(None, display_id=True)\n",
    "    _, image = cv2.imencode('.jpeg', image)\n",
    "    window.update(Image(data = image.tobytes()))"
   ]
  },
  {
   "cell_type": "code",
   "execution_count": null,
   "id": "3757364c",
   "metadata": {},
   "outputs": [],
   "source": [
    "def grayscale(image):\n",
    "    return cv2.cvtColor(cv2.cvtColor(image, cv2.COLOR_BGR2GRAY), cv2.COLOR_GRAY2RGB)"
   ]
  },
  {
   "cell_type": "code",
   "execution_count": null,
   "id": "bae3c2c8",
   "metadata": {},
   "outputs": [],
   "source": [
    "show(detect(image_from_file('res/easy-people-5.jpg'), []))"
   ]
  },
  {
   "cell_type": "code",
   "execution_count": null,
   "id": "7f578ed5",
   "metadata": {},
   "outputs": [],
   "source": [
    "show(detect(image_from_file('res/hard-people-7.jpg'), []))"
   ]
  },
  {
   "cell_type": "code",
   "execution_count": null,
   "id": "8630c5bb",
   "metadata": {},
   "outputs": [],
   "source": [
    "show(detect(image_from_file('res/medium-people-6.jpg'), []))"
   ]
  },
  {
   "cell_type": "code",
   "execution_count": null,
   "id": "c247f98b",
   "metadata": {},
   "outputs": [],
   "source": [
    "show(detect(image_from_file('res/medium-people-5-dark.jpg'), []))"
   ]
  },
  {
   "cell_type": "code",
   "execution_count": null,
   "id": "3b72dad2",
   "metadata": {},
   "outputs": [],
   "source": [
    "show(detect(image_from_file('res/hard-people-many.jpg'), []))"
   ]
  },
  {
   "cell_type": "code",
   "execution_count": null,
   "id": "b903b803",
   "metadata": {},
   "outputs": [],
   "source": [
    "show(detect(image_from_camera()))"
   ]
  }
 ],
 "metadata": {
  "kernelspec": {
   "display_name": "Python 3 (ipykernel)",
   "language": "python",
   "name": "python3"
  },
  "language_info": {
   "codemirror_mode": {
    "name": "ipython",
    "version": 3
   },
   "file_extension": ".py",
   "mimetype": "text/x-python",
   "name": "python",
   "nbconvert_exporter": "python",
   "pygments_lexer": "ipython3",
   "version": "3.10.6"
  }
 },
 "nbformat": 4,
 "nbformat_minor": 5
}
